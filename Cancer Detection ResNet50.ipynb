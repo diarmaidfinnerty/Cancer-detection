{
 "cells": [
  {
   "cell_type": "markdown",
   "metadata": {},
   "source": [
    "# Cancer Detection using Resnet 50 \n",
    "----"
   ]
  },
  {
   "cell_type": "code",
   "execution_count": 1,
   "metadata": {},
   "outputs": [],
   "source": [
    "import os\n",
    "import numpy as np\n",
    "import torch\n",
    "import torch.nn as nn\n",
    "import torch.optim as optim\n",
    "from torchvision import datasets\n",
    "import torchvision.models as models\n",
    "import torchvision.transforms as transforms"
   ]
  },
  {
   "cell_type": "markdown",
   "metadata": {},
   "source": [
    "## Load in the datasets\n",
    "----\n",
    "Info on how to obtain the datasets is contained in the README.md. Data augmentation techniques are applied in the data loader here to be applied to the training data. "
   ]
  },
  {
   "cell_type": "code",
   "execution_count": 2,
   "metadata": {},
   "outputs": [],
   "source": [
    "### Write data loaders for training, validation, and test sets\n",
    "## Specify appropriate transforms, and batch_sizes\n",
    "train_transfoms = transforms.Compose([transforms.Resize((224 , 224))\n",
    "                              ,transforms.RandomRotation(degrees = 10)\n",
    "                              ,transforms.RandomHorizontalFlip(p=0.2)\n",
    "                              ,transforms.RandomGrayscale(p=0.2)\n",
    "                              ,transforms.RandomVerticalFlip(p=0.2)\n",
    "                              ,transforms.ToTensor()\n",
    "                              ,transforms.Normalize(mean=[0.485, 0.456, 0.406]\n",
    "                                                   , std=[0.229, 0.224, 0.225])\n",
    "                              ])\n",
    "\n",
    "test_val_transfomrs = transforms.Compose([transforms.Resize((224 , 224))\n",
    "                              ,transforms.ToTensor()\n",
    "                              ,transforms.Normalize(mean=[0.485, 0.456, 0.406]\n",
    "                                                   , std = [0.229, 0.224, 0.225])\n",
    "                              ])\n",
    "\n",
    "batch_size = 4 #About all my little GPU can handle \n",
    "num_workers = 0\n",
    "\n",
    "train_data = datasets.ImageFolder(root=r'C:\\Users\\diarm\\Downloads\\cancer_detection\\data\\train'\n",
    "                                  , transform=train_transfoms)\n",
    "test_data = datasets.ImageFolder(root=r'C:\\Users\\diarm\\Downloads\\cancer_detection\\data\\test'\n",
    "                                 , transform=test_val_transfomrs)\n",
    "valid_data = datasets.ImageFolder(root=r'C:\\Users\\diarm\\Downloads\\cancer_detection\\data\\valid'\n",
    "                                  , transform=test_val_transfomrs)\n",
    "\n",
    "train_loader = torch.utils.data.DataLoader(train_data, batch_size=batch_size, num_workers=num_workers, shuffle=True)\n",
    "test_loader = torch.utils.data.DataLoader(test_data, batch_size=batch_size, num_workers=num_workers, shuffle=True)\n",
    "valid_loader = torch.utils.data.DataLoader(valid_data, batch_size=batch_size, num_workers=num_workers, shuffle=True)\n",
    "\n",
    "loaders = dict(train=train_loader, test=test_loader, valid=valid_loader)"
   ]
  },
  {
   "cell_type": "markdown",
   "metadata": {},
   "source": [
    "#### There are three class of skin lesion to look at in the problem.\n",
    "    - melanoma\n",
    "    - nevus\n",
    "    - seborrheic_keratosis"
   ]
  },
  {
   "cell_type": "code",
   "execution_count": 3,
   "metadata": {},
   "outputs": [
    {
     "name": "stdout",
     "output_type": "stream",
     "text": [
      "melanoma\n",
      "nevus\n",
      "seborrheic_keratosis\n"
     ]
    }
   ],
   "source": [
    "!ls C:\\\\Users\\\\diarm\\\\Downloads\\\\cancer_detection\\\\data\\\\train"
   ]
  },
  {
   "cell_type": "code",
   "execution_count": 4,
   "metadata": {},
   "outputs": [],
   "source": [
    "resnet50 = models.resnet50(pretrained=True)\n",
    "\n",
    "# check if CUDA is available\n",
    "use_cuda = torch.cuda.is_available()\n",
    "\n",
    "# move model to GPU if CUDA is available\n",
    "if use_cuda:\n",
    "    resnet50 = resnet50.cuda()"
   ]
  },
  {
   "cell_type": "markdown",
   "metadata": {},
   "source": [
    "#### The final classifier can be viewed here. \n",
    "For transfer learning we will change this final layer to suit our case and retrain it with our data. "
   ]
  },
  {
   "cell_type": "markdown",
   "metadata": {},
   "source": [
    "# Transfer learning\n",
    "----\n",
    "A new fully connected layer is appended to the inception net structure. We are replacing the current fully connected layer which takes in 2048 features and has 1000 outputs. \n",
    "The InceptionNet model has been trained on the ImageNet dataset which is a very large collection of images curated into 1 of 1000 classes.\n",
    "\n",
    "I'm going to use the underlying layers of the network to piggyback on the extraction of features from an image, and just train the final layer to classify the images from our dataset"
   ]
  },
  {
   "cell_type": "code",
   "execution_count": 5,
   "metadata": {},
   "outputs": [],
   "source": [
    "# Two final fully connected layer for output\n",
    "classifier = nn.Sequential(nn.Linear(2048, 512)\n",
    "                           ,nn.ReLU()\n",
    "                           ,nn.Dropout(0.15)\n",
    "                           ,nn.Linear(512, 64)\n",
    "                           ,nn.ReLU()\n",
    "                           ,nn.Dropout(0.15)\n",
    "                           ,nn.Linear(64, 3)\n",
    "                          )\n",
    "resnet50.fc = classifier\n",
    "# Transfer to GPU if available\n",
    "if use_cuda:\n",
    "    resnet50 = resnet50.to('cuda')"
   ]
  },
  {
   "cell_type": "code",
   "execution_count": 6,
   "metadata": {},
   "outputs": [
    {
     "data": {
      "text/plain": [
       "Sequential(\n",
       "  (0): Linear(in_features=2048, out_features=512, bias=True)\n",
       "  (1): ReLU()\n",
       "  (2): Dropout(p=0.1, inplace=False)\n",
       "  (3): Linear(in_features=512, out_features=64, bias=True)\n",
       "  (4): ReLU()\n",
       "  (5): Dropout(p=0.1, inplace=False)\n",
       "  (6): Linear(in_features=64, out_features=3, bias=True)\n",
       ")"
      ]
     },
     "execution_count": 6,
     "metadata": {},
     "output_type": "execute_result"
    }
   ],
   "source": [
    "resnet50.fc"
   ]
  },
  {
   "cell_type": "code",
   "execution_count": 7,
   "metadata": {},
   "outputs": [],
   "source": [
    "criterion = nn.CrossEntropyLoss()\n",
    "optimizer = optim.SGD(resnet50.parameters(), lr=0.001)"
   ]
  },
  {
   "cell_type": "code",
   "execution_count": 8,
   "metadata": {},
   "outputs": [],
   "source": [
    "# A helper function to show classification accuracy\n",
    "def label_accuracy(model, validation_loader, epoch, use_cuda):\n",
    "    model.eval()\n",
    "    correct = 0\n",
    "    total = 0\n",
    "    with torch.no_grad():\n",
    "        for images, targets in validation_loader:\n",
    "            if use_cuda:\n",
    "                images, targets = images.cuda(), targets.cuda()\n",
    "            outputs = model(images)\n",
    "            _, preds = torch.max(outputs.data, 1)\n",
    "            total += targets.size(0)\n",
    "            correct += (preds == targets).sum().item()\n",
    "    print('Accuray test at epoch {}\\tLabel Accuracy : - {} %'.format(epoch, round(correct / total, 2)))"
   ]
  },
  {
   "cell_type": "markdown",
   "metadata": {},
   "source": [
    "# Training \n",
    "----\n",
    "\n",
    "**N.B Loss calculation is different with InceptionNet**\n",
    "\n",
    "It produces two outputs, the standard output and the auxilliary output. The auxiliary outputs is used to prevent the vanishing gradient problem that can occur in very deep networks. \n",
    "Loss is calculated like so: \n",
    "```python\n",
    "outputs, aux_outputs = model(data)\n",
    "loss1 = criterion(outputs, target)\n",
    "loss2 = criterion(aux_outputs, target)\n",
    "loss = loss1 + 0.4*loss2\n",
    "```\n",
    "\n",
    "This is described in the pytorch documentation [here](https://pytorch.org/tutorials/beginner/finetuning_torchvision_models_tutorial.html)"
   ]
  },
  {
   "cell_type": "code",
   "execution_count": 9,
   "metadata": {},
   "outputs": [],
   "source": [
    "# Defining the trainig function\n",
    "def train(n_epochs, loaders, model, optimizer, criterion, use_cuda, save_path):\n",
    "    \"\"\"returns trained model\"\"\"\n",
    "    # initialize tracker for minimum validation loss\n",
    "    valid_loss_min = np.Inf \n",
    "    \n",
    "    for epoch in range(1, n_epochs+1):\n",
    "        # initialize variables to monitor training and validation loss\n",
    "        train_loss = 0.0\n",
    "        valid_loss = 0.0\n",
    "        \n",
    "        ###################\n",
    "        # train the model #\n",
    "        ###################\n",
    "        model.train()\n",
    "        for batch_idx, (data, target) in enumerate(loaders['train']):\n",
    "            # move to GPU\n",
    "            if use_cuda:\n",
    "                data, target = data.cuda(), target.cuda()\n",
    "            # clear the accumulated gradients \n",
    "            optimizer.zero_grad()\n",
    "            \n",
    "            # inception net produces two outputs, aux output handles vanishing gradient\n",
    "            outputs = model(data)\n",
    "            #loss calculation https://discuss.pytorch.org/t/how-to-optimize-inception-model-with-auxiliary-classifiers/7958\n",
    "            loss = criterion(outputs, target)\n",
    "            \n",
    "            # gradient of the loss with respect to the parameters\n",
    "            loss.backward()\n",
    "            # perform the parameter update (update the weights)\n",
    "            optimizer.step()\n",
    "            \n",
    "            ## record the average training loss\n",
    "            # train loss - adds current loss to accumulated loss (averaged over batch size)\n",
    "            train_loss = train_loss + ((1 / (batch_idx + 1)) * (loss.data - train_loss))\n",
    "        \n",
    "        ######################    \n",
    "        # validate the model #\n",
    "        ######################\n",
    "        model.eval()\n",
    "        for batch_idx, (data, target) in enumerate(loaders['valid']):\n",
    "            # move to GPU\n",
    "            if use_cuda:\n",
    "                data, target = data.cuda(), target.cuda()\n",
    "            # get prediction\n",
    "            output = model(data)\n",
    "            # calculate the loss\n",
    "            loss = criterion(output, target)\n",
    "            ## update the average validation loss\n",
    "            valid_loss = valid_loss + ((1 / (batch_idx + 1)) * (loss.data - valid_loss))\n",
    "            \n",
    "        # print training/validation statistics \n",
    "        print('Epoch: {} \\tTraining Loss: {:.6f} \\tValidation Loss: {:.6f}'.format(\n",
    "            epoch, \n",
    "            train_loss,\n",
    "            valid_loss\n",
    "            ))\n",
    "        \n",
    "        ## save the model if validation loss has decreased\n",
    "        if valid_loss < valid_loss_min:\n",
    "            print('Validation loss decreased ({:.6f} --> {:.6f}).  Saving model ...'.format(valid_loss_min,valid_loss))\n",
    "            torch.save(model.state_dict(), save_path) #add save path here\n",
    "            valid_loss_min = valid_loss\n",
    "            # get epoch accuracy \n",
    "            #label_accuracy(model, loaders['valid'], epoch, use_cuda)\n",
    "        \n",
    "        # learning rate decay scheduled here if necessary\n",
    "        #scheduler.step()\n",
    "        \n",
    "    return model"
   ]
  },
  {
   "cell_type": "code",
   "execution_count": 10,
   "metadata": {},
   "outputs": [
    {
     "name": "stdout",
     "output_type": "stream",
     "text": [
      "Epoch: 1 \tTraining Loss: 0.907970 \tValidation Loss: 1.038314\n",
      "Validation loss decreased (inf --> 1.038314).  Saving model ...\n",
      "Epoch: 2 \tTraining Loss: 0.809303 \tValidation Loss: 0.998425\n",
      "Validation loss decreased (1.038314 --> 0.998425).  Saving model ...\n",
      "Epoch: 3 \tTraining Loss: 0.787379 \tValidation Loss: 0.967549\n",
      "Validation loss decreased (0.998425 --> 0.967549).  Saving model ...\n",
      "Epoch: 4 \tTraining Loss: 0.769253 \tValidation Loss: 0.939399\n",
      "Validation loss decreased (0.967549 --> 0.939399).  Saving model ...\n",
      "Epoch: 5 \tTraining Loss: 0.754576 \tValidation Loss: 0.891104\n",
      "Validation loss decreased (0.939399 --> 0.891104).  Saving model ...\n",
      "Epoch: 6 \tTraining Loss: 0.733103 \tValidation Loss: 0.853023\n",
      "Validation loss decreased (0.891104 --> 0.853023).  Saving model ...\n",
      "Epoch: 7 \tTraining Loss: 0.719648 \tValidation Loss: 0.833995\n",
      "Validation loss decreased (0.853023 --> 0.833995).  Saving model ...\n",
      "Epoch: 8 \tTraining Loss: 0.690573 \tValidation Loss: 0.829684\n",
      "Validation loss decreased (0.833995 --> 0.829684).  Saving model ...\n",
      "Epoch: 9 \tTraining Loss: 0.690696 \tValidation Loss: 0.778573\n",
      "Validation loss decreased (0.829684 --> 0.778573).  Saving model ...\n",
      "Epoch: 10 \tTraining Loss: 0.665567 \tValidation Loss: 0.795500\n",
      "Epoch: 11 \tTraining Loss: 0.656201 \tValidation Loss: 0.765954\n",
      "Validation loss decreased (0.778573 --> 0.765954).  Saving model ...\n",
      "Epoch: 12 \tTraining Loss: 0.624505 \tValidation Loss: 0.734180\n",
      "Validation loss decreased (0.765954 --> 0.734180).  Saving model ...\n",
      "Epoch: 13 \tTraining Loss: 0.617196 \tValidation Loss: 0.714800\n",
      "Validation loss decreased (0.734180 --> 0.714800).  Saving model ...\n",
      "Epoch: 14 \tTraining Loss: 0.604756 \tValidation Loss: 0.779304\n",
      "Epoch: 15 \tTraining Loss: 0.573600 \tValidation Loss: 0.755041\n",
      "Epoch: 16 \tTraining Loss: 0.562887 \tValidation Loss: 0.695100\n",
      "Validation loss decreased (0.714800 --> 0.695100).  Saving model ...\n",
      "Epoch: 17 \tTraining Loss: 0.530939 \tValidation Loss: 0.623231\n",
      "Validation loss decreased (0.695100 --> 0.623231).  Saving model ...\n",
      "Epoch: 18 \tTraining Loss: 0.533596 \tValidation Loss: 0.635625\n",
      "Epoch: 19 \tTraining Loss: 0.528510 \tValidation Loss: 0.640747\n",
      "Epoch: 20 \tTraining Loss: 0.495369 \tValidation Loss: 0.650737\n",
      "Epoch: 21 \tTraining Loss: 0.484028 \tValidation Loss: 0.597241\n",
      "Validation loss decreased (0.623231 --> 0.597241).  Saving model ...\n",
      "Epoch: 22 \tTraining Loss: 0.477756 \tValidation Loss: 0.686849\n",
      "Epoch: 23 \tTraining Loss: 0.460525 \tValidation Loss: 0.597122\n",
      "Validation loss decreased (0.597241 --> 0.597122).  Saving model ...\n",
      "Epoch: 24 \tTraining Loss: 0.432002 \tValidation Loss: 0.621459\n",
      "Epoch: 25 \tTraining Loss: 0.427681 \tValidation Loss: 0.596355\n",
      "Validation loss decreased (0.597122 --> 0.596355).  Saving model ...\n",
      "Epoch: 26 \tTraining Loss: 0.433844 \tValidation Loss: 0.564867\n",
      "Validation loss decreased (0.596355 --> 0.564867).  Saving model ...\n",
      "Epoch: 27 \tTraining Loss: 0.393543 \tValidation Loss: 0.562072\n",
      "Validation loss decreased (0.564867 --> 0.562072).  Saving model ...\n",
      "Epoch: 28 \tTraining Loss: 0.380094 \tValidation Loss: 0.662238\n",
      "Epoch: 29 \tTraining Loss: 0.362313 \tValidation Loss: 0.596190\n",
      "Epoch: 30 \tTraining Loss: 0.360451 \tValidation Loss: 0.525640\n",
      "Validation loss decreased (0.562072 --> 0.525640).  Saving model ...\n",
      "Epoch: 31 \tTraining Loss: 0.353459 \tValidation Loss: 0.599853\n",
      "Epoch: 32 \tTraining Loss: 0.330802 \tValidation Loss: 0.666397\n",
      "Epoch: 33 \tTraining Loss: 0.306383 \tValidation Loss: 0.693098\n",
      "Epoch: 34 \tTraining Loss: 0.360919 \tValidation Loss: 0.675512\n",
      "Epoch: 35 \tTraining Loss: 0.316574 \tValidation Loss: 0.545373\n",
      "Epoch: 36 \tTraining Loss: 0.335104 \tValidation Loss: 0.574791\n",
      "Epoch: 37 \tTraining Loss: 0.303546 \tValidation Loss: 0.575498\n",
      "Epoch: 38 \tTraining Loss: 0.296488 \tValidation Loss: 0.643367\n",
      "Epoch: 39 \tTraining Loss: 0.285321 \tValidation Loss: 0.674839\n",
      "Epoch: 40 \tTraining Loss: 0.275764 \tValidation Loss: 0.623864\n",
      "Epoch: 41 \tTraining Loss: 0.262076 \tValidation Loss: 0.612516\n",
      "Epoch: 42 \tTraining Loss: 0.258463 \tValidation Loss: 0.630827\n",
      "Epoch: 43 \tTraining Loss: 0.251291 \tValidation Loss: 0.666445\n",
      "Epoch: 44 \tTraining Loss: 0.248023 \tValidation Loss: 0.653139\n",
      "Epoch: 45 \tTraining Loss: 0.228585 \tValidation Loss: 0.767314\n",
      "Epoch: 46 \tTraining Loss: 0.242203 \tValidation Loss: 0.607461\n",
      "Epoch: 47 \tTraining Loss: 0.196734 \tValidation Loss: 0.672881\n",
      "Epoch: 48 \tTraining Loss: 0.216788 \tValidation Loss: 0.620109\n",
      "Epoch: 49 \tTraining Loss: 0.194565 \tValidation Loss: 0.788158\n",
      "Epoch: 50 \tTraining Loss: 0.228877 \tValidation Loss: 0.704376\n"
     ]
    }
   ],
   "source": [
    "# let 'er riiiip\n",
    "trained_model = train(50, loaders, resnet50, optimizer, criterion, use_cuda, save_path='./resnet_temp_models/model_cancer_detection.pt')"
   ]
  }
 ],
 "metadata": {
  "kernelspec": {
   "display_name": "Python 3",
   "language": "python",
   "name": "python3"
  },
  "language_info": {
   "codemirror_mode": {
    "name": "ipython",
    "version": 3
   },
   "file_extension": ".py",
   "mimetype": "text/x-python",
   "name": "python",
   "nbconvert_exporter": "python",
   "pygments_lexer": "ipython3",
   "version": "3.7.7"
  }
 },
 "nbformat": 4,
 "nbformat_minor": 4
}
