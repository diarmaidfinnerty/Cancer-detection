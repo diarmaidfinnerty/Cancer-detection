{
 "cells": [
  {
   "cell_type": "markdown",
   "metadata": {},
   "source": [
    "# Cancer Detection using Resnet 50 \n",
    "----"
   ]
  },
  {
   "cell_type": "code",
   "execution_count": 1,
   "metadata": {},
   "outputs": [],
   "source": [
    "import os\n",
    "import numpy as np\n",
    "import torch\n",
    "import torch.nn as nn\n",
    "import torch.optim as optim\n",
    "from torchvision import datasets\n",
    "import torchvision.models as models\n",
    "import torchvision.transforms as transforms"
   ]
  },
  {
   "cell_type": "markdown",
   "metadata": {
    "toc-hr-collapsed": true,
    "toc-nb-collapsed": true
   },
   "source": [
    "## Load in the datasets\n",
    "----\n",
    "Info on how to obtain the datasets is contained in the README.md. Data augmentation techniques are applied in the data loader here to be applied to the training data. "
   ]
  },
  {
   "cell_type": "code",
   "execution_count": 2,
   "metadata": {},
   "outputs": [],
   "source": [
    "### Write data loaders for training, validation, and test sets\n",
    "## Specify appropriate transforms, and batch_sizes\n",
    "train_transfoms = transforms.Compose([transforms.Resize((224 , 224))\n",
    "                              ,transforms.RandomRotation(degrees = 10)\n",
    "                              ,transforms.RandomHorizontalFlip(p=0.2)\n",
    "                              ,transforms.RandomGrayscale(p=0.2)\n",
    "                              ,transforms.RandomVerticalFlip(p=0.2)\n",
    "                              ,transforms.ToTensor()\n",
    "                              ,transforms.Normalize(mean=[0.485, 0.456, 0.406]\n",
    "                                                   , std=[0.229, 0.224, 0.225])\n",
    "                              ])\n",
    "\n",
    "test_val_transfomrs = transforms.Compose([transforms.Resize((224 , 224))\n",
    "                              ,transforms.ToTensor()\n",
    "                              ,transforms.Normalize(mean=[0.485, 0.456, 0.406]\n",
    "                                                   , std = [0.229, 0.224, 0.225])\n",
    "                              ])\n",
    "\n",
    "batch_size = 4 #About all my little GPU can handle \n",
    "num_workers = 0\n",
    "\n",
    "train_data = datasets.ImageFolder(root=r'C:\\Users\\diarm\\Downloads\\cancer_detection\\data\\train'\n",
    "                                  , transform=train_transfoms)\n",
    "test_data = datasets.ImageFolder(root=r'C:\\Users\\diarm\\Downloads\\cancer_detection\\data\\test'\n",
    "                                 , transform=test_val_transfomrs)\n",
    "valid_data = datasets.ImageFolder(root=r'C:\\Users\\diarm\\Downloads\\cancer_detection\\data\\valid'\n",
    "                                  , transform=test_val_transfomrs)\n",
    "\n",
    "train_loader = torch.utils.data.DataLoader(train_data, batch_size=batch_size, num_workers=num_workers, shuffle=True)\n",
    "test_loader = torch.utils.data.DataLoader(test_data, batch_size=batch_size, num_workers=num_workers, shuffle=True)\n",
    "valid_loader = torch.utils.data.DataLoader(valid_data, batch_size=batch_size, num_workers=num_workers, shuffle=True)\n",
    "\n",
    "loaders = dict(train=train_loader, test=test_loader, valid=valid_loader)"
   ]
  },
  {
   "cell_type": "markdown",
   "metadata": {},
   "source": [
    "#### There are three class of skin lesion to look at in the problem.\n",
    "    - melanoma\n",
    "    - nevus\n",
    "    - seborrheic_keratosis"
   ]
  },
  {
   "cell_type": "code",
   "execution_count": 3,
   "metadata": {},
   "outputs": [
    {
     "name": "stdout",
     "output_type": "stream",
     "text": [
      "melanoma\n",
      "nevus\n",
      "seborrheic_keratosis\n"
     ]
    }
   ],
   "source": [
    "!ls C:\\\\Users\\\\diarm\\\\Downloads\\\\cancer_detection\\\\data\\\\train"
   ]
  },
  {
   "cell_type": "code",
   "execution_count": 4,
   "metadata": {},
   "outputs": [],
   "source": [
    "resnet50 = models.resnet50(pretrained=True)\n",
    "\n",
    "# check if CUDA is available\n",
    "use_cuda = torch.cuda.is_available()\n",
    "\n",
    "# move model to GPU if CUDA is available\n",
    "if use_cuda:\n",
    "    resnet50 = resnet50.cuda()"
   ]
  },
  {
   "cell_type": "markdown",
   "metadata": {},
   "source": [
    "#### The final classifier can be viewed here. \n",
    "For transfer learning we will change this final layer to suit our case and retrain it with our data. "
   ]
  },
  {
   "cell_type": "markdown",
   "metadata": {},
   "source": [
    "# Transfer learning\n",
    "----\n",
    "A new fully connected layer is appended to the ResNet50 structure. I'm going to use the underlying architecture of the network to piggyback on the extraction of features from an image, and train the parameters to suit our images. \n",
    "\n",
    "The ResNet-50 network was retrieved from pytorch.models - [you can find it here](https://pytorch.org/docs/stable/torchvision/models.html#torchvision.models.resnet18)\n"
   ]
  },
  {
   "cell_type": "code",
   "execution_count": 5,
   "metadata": {},
   "outputs": [],
   "source": [
    "### Write data loaders for training, validation, and test sets\n",
    "## Specify appropriate transforms, and batch_sizes\n",
    "train_transfoms = transforms.Compose([transforms.Resize((224 , 224))\n",
    "                              ,transforms.RandomRotation(degrees = 10)\n",
    "                              ,transforms.RandomHorizontalFlip(p=0.2)\n",
    "                              ,transforms.RandomGrayscale(p=0.2)\n",
    "                              ,transforms.RandomVerticalFlip(p=0.2)\n",
    "                              ,transforms.ToTensor()\n",
    "                              ,transforms.Normalize(mean=[0.485, 0.456, 0.406]\n",
    "                                                   , std=[0.229, 0.224, 0.225])\n",
    "                              ])\n",
    "\n",
    "test_val_transfomrs = transforms.Compose([transforms.Resize((224 , 224))\n",
    "                              ,transforms.ToTensor()\n",
    "                              ,transforms.Normalize(mean=[0.485, 0.456, 0.406]\n",
    "                                                   , std = [0.229, 0.224, 0.225])\n",
    "                              ])\n",
    "\n",
    "batch_size = 4 #About all my little GPU can handle \n",
    "num_workers = 0\n",
    "\n",
    "train_data = datasets.ImageFolder(root=r'C:\\Users\\diarm\\Downloads\\cancer_detection\\data\\train'\n",
    "                                  , transform=train_transfoms)\n",
    "test_data = datasets.ImageFolder(root=r'C:\\Users\\diarm\\Downloads\\cancer_detection\\data\\test'\n",
    "                                 , transform=test_val_transfomrs)\n",
    "valid_data = datasets.ImageFolder(root=r'C:\\Users\\diarm\\Downloads\\cancer_detection\\data\\valid'\n",
    "                                  , transform=test_val_transfomrs)\n",
    "\n",
    "train_loader = torch.utils.data.DataLoader(train_data, batch_size=batch_size, num_workers=num_workers, shuffle=True)\n",
    "test_loader = torch.utils.data.DataLoader(test_data, batch_size=batch_size, num_workers=num_workers, shuffle=True)\n",
    "valid_loader = torch.utils.data.DataLoader(valid_data, batch_size=batch_size, num_workers=num_workers, shuffle=True)\n",
    "\n",
    "loaders = dict(train=train_loader, test=test_loader, valid=valid_loader)"
   ]
  },
  {
   "cell_type": "markdown",
   "metadata": {},
   "source": [
    "#### There are three class of skin lesion to look at in the problem.\n",
    "    - melanoma\n",
    "    - nevus\n",
    "    - seborrheic_keratosis"
   ]
  },
  {
   "cell_type": "code",
   "execution_count": 6,
   "metadata": {},
   "outputs": [
    {
     "name": "stdout",
     "output_type": "stream",
     "text": [
      "melanoma\n",
      "nevus\n",
      "seborrheic_keratosis\n"
     ]
    }
   ],
   "source": [
    "!ls C:\\\\Users\\\\diarm\\\\Downloads\\\\cancer_detection\\\\data\\\\train"
   ]
  },
  {
   "cell_type": "code",
   "execution_count": 7,
   "metadata": {},
   "outputs": [],
   "source": [
    "resnet50 = models.resnet50(pretrained=True)\n",
    "\n",
    "# check if CUDA is available\n",
    "use_cuda = torch.cuda.is_available()\n",
    "\n",
    "# move model to GPU if CUDA is available\n",
    "if use_cuda:\n",
    "    resnet50 = resnet50.cuda()"
   ]
  },
  {
   "cell_type": "code",
   "execution_count": 8,
   "metadata": {},
   "outputs": [],
   "source": [
    "# Two final fully connected layer for output\n",
    "classifier = nn.Sequential(nn.Linear(2048, 512)\n",
    "                           ,nn.ReLU()\n",
    "                           ,nn.Dropout(0.15)\n",
    "                           ,nn.Linear(512, 64)\n",
    "                           ,nn.ReLU()\n",
    "                           ,nn.Dropout(0.15)\n",
    "                           ,nn.Linear(64, 3)\n",
    "                          )\n",
    "resnet50.fc = classifier\n",
    "# Transfer to GPU if available\n",
    "if use_cuda:\n",
    "    resnet50 = resnet50.to('cuda')"
   ]
  },
  {
   "cell_type": "code",
   "execution_count": 9,
   "metadata": {},
   "outputs": [
    {
     "data": {
      "text/plain": [
       "Sequential(\n",
       "  (0): Linear(in_features=2048, out_features=512, bias=True)\n",
       "  (1): ReLU()\n",
       "  (2): Dropout(p=0.15, inplace=False)\n",
       "  (3): Linear(in_features=512, out_features=64, bias=True)\n",
       "  (4): ReLU()\n",
       "  (5): Dropout(p=0.15, inplace=False)\n",
       "  (6): Linear(in_features=64, out_features=3, bias=True)\n",
       ")"
      ]
     },
     "execution_count": 9,
     "metadata": {},
     "output_type": "execute_result"
    }
   ],
   "source": [
    "resnet50.fc"
   ]
  },
  {
   "cell_type": "code",
   "execution_count": 10,
   "metadata": {},
   "outputs": [],
   "source": [
    "criterion = nn.CrossEntropyLoss()\n",
    "optimizer = optim.SGD(resnet50.parameters(), lr=0.001)"
   ]
  },
  {
   "cell_type": "code",
   "execution_count": 11,
   "metadata": {},
   "outputs": [],
   "source": [
    "# A helper function to show classification accuracy\n",
    "def label_accuracy(model, validation_loader, epoch, use_cuda):\n",
    "    model.eval()\n",
    "    correct = 0\n",
    "    total = 0\n",
    "    with torch.no_grad():\n",
    "        for images, targets in validation_loader:\n",
    "            if use_cuda:\n",
    "                images, targets = images.cuda(), targets.cuda()\n",
    "            outputs = model(images)\n",
    "            _, preds = torch.max(outputs.data, 1)\n",
    "            total += targets.size(0)\n",
    "            correct += (preds == targets).sum().item()\n",
    "    print('Accuray test at epoch {}\\tLabel Accuracy : - {} %'.format(epoch, round(correct / total, 2)))"
   ]
  },
  {
   "cell_type": "markdown",
   "metadata": {},
   "source": [
    "# Training \n",
    "----"
   ]
  },
  {
   "cell_type": "code",
   "execution_count": 12,
   "metadata": {},
   "outputs": [],
   "source": [
    "def train(n_epochs, loaders, model, optimizer, criterion, use_cuda, save_path):\n",
    "    \"\"\"returns trained model\"\"\"\n",
    "    # initialize tracker for minimum validation loss\n",
    "    valid_loss_min = np.Inf \n",
    "    \n",
    "    for epoch in range(1, n_epochs+1):\n",
    "        # initialize variables to monitor training and validation loss\n",
    "        train_loss = 0.0\n",
    "        valid_loss = 0.0\n",
    "        \n",
    "        ###################\n",
    "        # train the model #\n",
    "        ###################\n",
    "        model.train()\n",
    "        for batch_idx, (data, target) in enumerate(loaders['train']):\n",
    "            # move to GPU\n",
    "            if use_cuda:\n",
    "                data, target = data.cuda(), target.cuda()\n",
    "            # clear the accumulated gradients \n",
    "            optimizer.zero_grad()\n",
    "            \n",
    "            # inception net produces two outputs, aux output handles vanishing gradient\n",
    "            outputs = model(data)\n",
    "            #loss calculation https://discuss.pytorch.org/t/how-to-optimize-inception-model-with-auxiliary-classifiers/7958\n",
    "            loss = criterion(outputs, target)\n",
    "            \n",
    "            # gradient of the loss with respect to the parameters\n",
    "            loss.backward()\n",
    "            # perform the parameter update (update the weights)\n",
    "            optimizer.step()\n",
    "            \n",
    "            ## record the average training loss\n",
    "            # train loss - adds current loss to accumulated loss (averaged over batch size)\n",
    "            train_loss = train_loss + ((1 / (batch_idx + 1)) * (loss.data - train_loss))\n",
    "        \n",
    "        ######################    \n",
    "        # validate the model #\n",
    "        ######################\n",
    "        model.eval()\n",
    "        for batch_idx, (data, target) in enumerate(loaders['valid']):\n",
    "            # move to GPU\n",
    "            if use_cuda:\n",
    "                data, target = data.cuda(), target.cuda()\n",
    "            # get prediction\n",
    "            output = model(data)\n",
    "            # calculate the loss\n",
    "            loss = criterion(output, target)\n",
    "            ## update the average validation loss\n",
    "            valid_loss = valid_loss + ((1 / (batch_idx + 1)) * (loss.data - valid_loss))\n",
    "            \n",
    "        # print training/validation statistics \n",
    "        print('Epoch: {} \\tTraining Loss: {:.6f} \\tValidation Loss: {:.6f}'.format(\n",
    "            epoch, \n",
    "            train_loss,\n",
    "            valid_loss\n",
    "            ))\n",
    "        \n",
    "        ## save the model if validation loss has decreased\n",
    "        if valid_loss < valid_loss_min:\n",
    "            print('Validation loss decreased ({:.6f} --> {:.6f}).  Saving model ...'.format(valid_loss_min,valid_loss))\n",
    "            torch.save(model.state_dict(), save_path) #add save path here\n",
    "            valid_loss_min = valid_loss\n",
    "            # get epoch accuracy \n",
    "            #label_accuracy(model, loaders['valid'], epoch, use_cuda)\n",
    "        \n",
    "        # learning rate decay scheduled here if necessary\n",
    "        #scheduler.step()\n",
    "        \n",
    "    return model"
   ]
  },
  {
   "cell_type": "code",
   "execution_count": 1,
   "metadata": {},
   "outputs": [
    {
     "ename": "NameError",
     "evalue": "name 'train' is not defined",
     "output_type": "error",
     "traceback": [
      "\u001b[1;31m---------------------------------------------------------------------------\u001b[0m",
      "\u001b[1;31mNameError\u001b[0m                                 Traceback (most recent call last)",
      "\u001b[1;32m<ipython-input-1-de2abf87773d>\u001b[0m in \u001b[0;36m<module>\u001b[1;34m\u001b[0m\n\u001b[0;32m      1\u001b[0m \u001b[1;31m# let 'er riiiip\u001b[0m\u001b[1;33m\u001b[0m\u001b[1;33m\u001b[0m\u001b[1;33m\u001b[0m\u001b[0m\n\u001b[1;32m----> 2\u001b[1;33m \u001b[0mtrained_model\u001b[0m \u001b[1;33m=\u001b[0m \u001b[0mtrain\u001b[0m\u001b[1;33m(\u001b[0m\u001b[1;36m50\u001b[0m\u001b[1;33m,\u001b[0m \u001b[0mloaders\u001b[0m\u001b[1;33m,\u001b[0m \u001b[0mresnet50\u001b[0m\u001b[1;33m,\u001b[0m \u001b[0moptimizer\u001b[0m\u001b[1;33m,\u001b[0m \u001b[0mcriterion\u001b[0m\u001b[1;33m,\u001b[0m \u001b[0muse_cuda\u001b[0m\u001b[1;33m,\u001b[0m \u001b[0msave_path\u001b[0m\u001b[1;33m=\u001b[0m\u001b[1;34m'./resnet_temp_models/model_cancer_detection.pt'\u001b[0m\u001b[1;33m)\u001b[0m\u001b[1;33m\u001b[0m\u001b[1;33m\u001b[0m\u001b[0m\n\u001b[0m",
      "\u001b[1;31mNameError\u001b[0m: name 'train' is not defined"
     ]
    }
   ],
   "source": [
    "# let 'er riiiip\n",
    "trained_model = train(50, loaders, resnet50, optimizer, criterion, use_cuda, save_path='./resnet_temp_models/model_cancer_detection.pt')"
   ]
  }
 ],
 "metadata": {
  "kernelspec": {
   "display_name": "Python 3",
   "language": "python",
   "name": "python3"
  },
  "language_info": {
   "codemirror_mode": {
    "name": "ipython",
    "version": 3
   },
   "file_extension": ".py",
   "mimetype": "text/x-python",
   "name": "python",
   "nbconvert_exporter": "python",
   "pygments_lexer": "ipython3",
   "version": "3.7.7"
  }
 },
 "nbformat": 4,
 "nbformat_minor": 4
}
