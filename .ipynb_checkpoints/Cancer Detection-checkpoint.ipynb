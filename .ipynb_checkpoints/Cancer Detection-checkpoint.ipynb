{
 "cells": [
  {
   "cell_type": "markdown",
   "metadata": {},
   "source": [
    "# Cancer Detection using InceptionNet V3\n",
    "----"
   ]
  },
  {
   "cell_type": "code",
   "execution_count": 1,
   "metadata": {},
   "outputs": [],
   "source": [
    "import os\n",
    "import numpy as np\n",
    "import torch\n",
    "import torch.nn as nn\n",
    "import torch.optim as optim\n",
    "from torchvision import datasets\n",
    "import torchvision.models as models\n",
    "import torchvision.transforms as transforms"
   ]
  },
  {
   "cell_type": "markdown",
   "metadata": {},
   "source": [
    "## Load in the datasets\n",
    "----\n",
    "Info on how to obtain the datasets is contained in the README.md. Data augmentation techniques are applied in the data loader here to be applied to the training data. "
   ]
  },
  {
   "cell_type": "code",
   "execution_count": 2,
   "metadata": {},
   "outputs": [],
   "source": [
    "### Write data loaders for training, validation, and test sets\n",
    "## Specify appropriate transforms, and batch_sizes\n",
    "train_transfoms = transforms.Compose([transforms.Resize((299 , 299))\n",
    "                              ,transforms.RandomRotation(degrees = 10)\n",
    "                              ,transforms.RandomHorizontalFlip(p=0.25)\n",
    "                              ,transforms.RandomGrayscale(p=0.25)\n",
    "                              ,transforms.RandomVerticalFlip(p=0.25)\n",
    "                              ,transforms.ToTensor()\n",
    "                              ,transforms.Normalize(mean=[0.485, 0.456, 0.406]\n",
    "                                                   , std=[0.229, 0.224, 0.225])\n",
    "                              ])\n",
    "\n",
    "test_val_transfomrs = transforms.Compose([transforms.Resize((299 , 299))\n",
    "                              ,transforms.ToTensor()\n",
    "                              ,transforms.Normalize(mean=[0.485, 0.456, 0.406]\n",
    "                                                   , std = [0.229, 0.224, 0.225])\n",
    "                              ])\n",
    "\n",
    "batch_size = 4 #About all my little GPU can handle \n",
    "num_workers = 0\n",
    "\n",
    "train_data = datasets.ImageFolder(root=r'C:\\Users\\diarm\\Downloads\\cancer_detection\\data\\train', transform=train_transfoms)\n",
    "test_data = datasets.ImageFolder(root=r'C:\\Users\\diarm\\Downloads\\cancer_detection\\data\\test', transform=test_val_transfomrs)\n",
    "valid_data = datasets.ImageFolder(root=r'C:\\Users\\diarm\\Downloads\\cancer_detection\\data\\valid', transform=test_val_transfomrs)\n",
    "\n",
    "train_loader = torch.utils.data.DataLoader(train_data, batch_size=batch_size, num_workers=num_workers, shuffle=True)\n",
    "test_loader = torch.utils.data.DataLoader(test_data, batch_size=batch_size, num_workers=num_workers, shuffle=True)\n",
    "valid_loader = torch.utils.data.DataLoader(valid_data, batch_size=batch_size, num_workers=num_workers, shuffle=True)\n",
    "\n",
    "loaders = dict(train=train_loader, test=test_loader, valid=valid_loader)"
   ]
  },
  {
   "cell_type": "markdown",
   "metadata": {},
   "source": [
    "#### There are three class of skin lesion to look at in the problem.\n",
    "    - melanoma\n",
    "    - nevus\n",
    "    - seborrheic_keratosis"
   ]
  },
  {
   "cell_type": "code",
   "execution_count": 3,
   "metadata": {},
   "outputs": [
    {
     "name": "stdout",
     "output_type": "stream",
     "text": [
      "melanoma\n",
      "nevus\n",
      "seborrheic_keratosis\n"
     ]
    }
   ],
   "source": [
    "!ls C:\\\\Users\\\\diarm\\\\Downloads\\\\cancer_detection\\\\data\\\\train"
   ]
  },
  {
   "cell_type": "code",
   "execution_count": 4,
   "metadata": {},
   "outputs": [],
   "source": [
    "inception_net = models.inception_v3(pretrained=True)\n",
    "\n",
    "# check if CUDA is available\n",
    "use_cuda = torch.cuda.is_available()\n",
    "\n",
    "# move model to GPU if CUDA is available\n",
    "if use_cuda:\n",
    "    inception_net = inception_net.cuda()"
   ]
  },
  {
   "cell_type": "markdown",
   "metadata": {},
   "source": [
    "#### The final classifier can be viewed here. \n",
    "For transfer learning we will change this final layer to suit our case and retrain it with our data. "
   ]
  },
  {
   "cell_type": "code",
   "execution_count": 5,
   "metadata": {},
   "outputs": [
    {
     "data": {
      "text/plain": [
       "Linear(in_features=2048, out_features=1000, bias=True)"
      ]
     },
     "execution_count": 5,
     "metadata": {},
     "output_type": "execute_result"
    }
   ],
   "source": [
    "inception_net.fc"
   ]
  },
  {
   "cell_type": "markdown",
   "metadata": {},
   "source": [
    "# Transfer learning\n",
    "----\n",
    "A new fully connected layer is appended to the inception net structure. We are replacing the current fully connected layer which takes in 2048 features and has 1000 outputs. \n",
    "The InceptionNet model has been trained on the ImageNet dataset which is a very large collection of images curated into 1 of 1000 classes.\n",
    "\n",
    "I'm going to use the underlying layers of the network to piggyback on the extraction of features from an image, and just train the final layer to classify the images from our dataset"
   ]
  },
  {
   "cell_type": "code",
   "execution_count": 6,
   "metadata": {},
   "outputs": [],
   "source": [
    "# Freeze the parameters of the network\n",
    "for param in inception_net.parameters():\n",
    "    inception_net.requires_grad = False\n",
    "\n",
    "# New final fully connected layer here\n",
    "inception_net.fc1 = nn.Linear(2048, 1024)\n",
    "inception_net.fc2 = nn.Linear(2048, 3)\n",
    "\n",
    "# Transfer to GPU if available\n",
    "if use_cuda:\n",
    "    inception_net = inception_net.to('cuda')\n",
    "    \n",
    "# set params for training of fully connected layer\n",
    "inception_net.fc1.weight.requires_grad = True\n",
    "inception_net.fc1.bias.requires_grad = True\n",
    "inception_net.fc2.weight.requires_grad = True\n",
    "inception_net.fc2.bias.requires_grad = True"
   ]
  },
  {
   "cell_type": "code",
   "execution_count": 7,
   "metadata": {},
   "outputs": [],
   "source": [
    "criterion = nn.CrossEntropyLoss()\n",
    "# These values were obtained from here https://arxiv.org/ftp/arxiv/papers/1810/1810.10348.pdf\n",
    "optimizer = optim.SGD(inception_net.fc.parameters(),lr=0.0007)"
   ]
  },
  {
   "cell_type": "code",
   "execution_count": 8,
   "metadata": {},
   "outputs": [],
   "source": [
    "# A helper function to show classification accuracy\n",
    "def label_accuracy(model, validation_loader, epoch, use_cuda):\n",
    "    model.eval()\n",
    "    correct = 0\n",
    "    total = 0\n",
    "    with torch.no_grad():\n",
    "        for images, targets in validation_loader:\n",
    "            if use_cuda:\n",
    "                images, targets = images.cuda(), targets.cuda()\n",
    "            outputs = model(images)\n",
    "            _, preds = torch.max(outputs.data, 1)\n",
    "            total += targets.size(0)\n",
    "            correct += (preds == targets).sum().item()\n",
    "    print('Accuray test at epoch {}\\tLabel Accuracy : - {} %'.format(epoch, round(correct / total, 2)))"
   ]
  },
  {
   "cell_type": "markdown",
   "metadata": {},
   "source": [
    "# Training \n",
    "----\n",
    "\n",
    "**N.B Loss calculation is different with InceptionNet**\n",
    "\n",
    "It produces two outputs, the standard output and the auxilliary output. The auxiliary outputs is used to prevent the vanishing gradient problem that can occur in very deep networks. \n",
    "Loss is calculated like so: \n",
    "```python\n",
    "outputs, aux_outputs = model(data)\n",
    "loss1 = criterion(outputs, target)\n",
    "loss2 = criterion(aux_outputs, target)\n",
    "loss = loss1 + 0.4*loss2\n",
    "```\n",
    "\n",
    "This is described in the pytorch documentation [here](https://pytorch.org/tutorials/beginner/finetuning_torchvision_models_tutorial.html)"
   ]
  },
  {
   "cell_type": "code",
   "execution_count": 11,
   "metadata": {},
   "outputs": [],
   "source": [
    "# Defining the trainig function\n",
    "def train(n_epochs, loaders, model, optimizer, criterion, use_cuda, save_path):\n",
    "    \"\"\"returns trained model\"\"\"\n",
    "    # initialize tracker for minimum validation loss\n",
    "    valid_loss_min = np.Inf \n",
    "    \n",
    "    for epoch in range(1, n_epochs+1):\n",
    "        # initialize variables to monitor training and validation loss\n",
    "        train_loss = 0.0\n",
    "        valid_loss = 0.0\n",
    "        \n",
    "        ###################\n",
    "        # train the model #\n",
    "        ###################\n",
    "        model.train()\n",
    "        for batch_idx, (data, target) in enumerate(loaders['train']):\n",
    "            # move to GPU\n",
    "            if use_cuda:\n",
    "                data, target = data.cuda(), target.cuda()\n",
    "            # clear the accumulated gradients \n",
    "            optimizer.zero_grad()\n",
    "            \n",
    "            # inception net produces two outputs, aux output handles vanishing gradient\n",
    "            outputs, aux_outputs = model(data)\n",
    "            #loss calculation https://discuss.pytorch.org/t/how-to-optimize-inception-model-with-auxiliary-classifiers/7958\n",
    "            loss1 = criterion(outputs, target)\n",
    "            loss2 = criterion(aux_outputs, target)\n",
    "            loss = loss1 + 0.4*loss2 # 0.4 is weight for auxillary classifier\n",
    "            \n",
    "            # gradient of the loss with respect to the parameters\n",
    "            loss.backward()\n",
    "            # perform the parameter update (update the weights)\n",
    "            optimizer.step()\n",
    "            \n",
    "            ## record the average training loss\n",
    "            # train loss - adds current loss to accumulated loss (averaged over batch size)\n",
    "            train_loss = train_loss + ((1 / (batch_idx + 1)) * (loss.data - train_loss))\n",
    "            \n",
    "        ######################    \n",
    "        # validate the model #\n",
    "        ######################\n",
    "        model.eval()\n",
    "        for batch_idx, (data, target) in enumerate(loaders['valid']):\n",
    "            # move to GPU\n",
    "            if use_cuda:\n",
    "                data, target = data.cuda(), target.cuda()\n",
    "            # get prediction\n",
    "            output = model(data)\n",
    "            # calculate the loss\n",
    "            loss = criterion(output, target)\n",
    "            ## update the average validation loss\n",
    "            valid_loss = valid_loss + ((1 / (batch_idx + 1)) * (loss.data - valid_loss))\n",
    "            \n",
    "        # print training/validation statistics \n",
    "        print('Epoch: {} \\tTraining Loss: {:.6f} \\tValidation Loss: {:.6f}'.format(\n",
    "            epoch, \n",
    "            train_loss,\n",
    "            valid_loss\n",
    "            ))\n",
    "        \n",
    "        ## TODO: save the model if validation loss has decreased\n",
    "        if valid_loss < valid_loss_min:\n",
    "            print('Validation loss decreased ({:.6f} --> {:.6f}).  Saving model ...'.format(valid_loss_min,valid_loss))\n",
    "            torch.save(model.state_dict(), save_path) #add save path here\n",
    "            valid_loss_min = valid_loss\n",
    "    \n",
    "    # return trained model\n",
    "    return model"
   ]
  },
  {
   "cell_type": "code",
   "execution_count": 12,
   "metadata": {},
   "outputs": [
    {
     "name": "stdout",
     "output_type": "stream",
     "text": [
      "Epoch: 1 \tTraining Loss: 4.035789 \tValidation Loss: 0.961809\n",
      "Validation loss decreased (inf --> 0.961809).  Saving model ...\n",
      "Epoch: 2 \tTraining Loss: 4.030556 \tValidation Loss: 0.970421\n",
      "Epoch: 3 \tTraining Loss: 4.011233 \tValidation Loss: 0.930182\n",
      "Validation loss decreased (0.961809 --> 0.930182).  Saving model ...\n",
      "Epoch: 4 \tTraining Loss: 4.015778 \tValidation Loss: 0.992137\n",
      "Epoch: 5 \tTraining Loss: 4.015765 \tValidation Loss: 0.974207\n",
      "Epoch: 6 \tTraining Loss: 4.017126 \tValidation Loss: 0.955737\n",
      "Epoch: 7 \tTraining Loss: 4.004001 \tValidation Loss: 0.983132\n",
      "Epoch: 8 \tTraining Loss: 4.007085 \tValidation Loss: 0.952631\n",
      "Epoch: 9 \tTraining Loss: 3.993067 \tValidation Loss: 0.919410\n",
      "Validation loss decreased (0.930182 --> 0.919410).  Saving model ...\n",
      "Epoch: 10 \tTraining Loss: 4.011347 \tValidation Loss: 0.934412\n",
      "Epoch: 11 \tTraining Loss: 3.999009 \tValidation Loss: 0.902390\n",
      "Validation loss decreased (0.919410 --> 0.902390).  Saving model ...\n",
      "Epoch: 12 \tTraining Loss: 3.987596 \tValidation Loss: 0.925541\n",
      "Epoch: 13 \tTraining Loss: 3.993824 \tValidation Loss: 0.998064\n",
      "Epoch: 14 \tTraining Loss: 3.998047 \tValidation Loss: 0.932225\n",
      "Epoch: 15 \tTraining Loss: 4.005919 \tValidation Loss: 0.904752\n",
      "Epoch: 16 \tTraining Loss: 4.000021 \tValidation Loss: 0.972155\n",
      "Epoch: 17 \tTraining Loss: 3.986685 \tValidation Loss: 0.887287\n",
      "Validation loss decreased (0.902390 --> 0.887287).  Saving model ...\n",
      "Epoch: 18 \tTraining Loss: 3.971773 \tValidation Loss: 0.917899\n",
      "Epoch: 19 \tTraining Loss: 3.993887 \tValidation Loss: 0.935282\n",
      "Epoch: 20 \tTraining Loss: 3.982967 \tValidation Loss: 0.962152\n",
      "Epoch: 21 \tTraining Loss: 3.965622 \tValidation Loss: 0.915814\n",
      "Epoch: 22 \tTraining Loss: 3.966627 \tValidation Loss: 0.904896\n",
      "Epoch: 23 \tTraining Loss: 3.975772 \tValidation Loss: 0.941272\n",
      "Epoch: 24 \tTraining Loss: 3.956001 \tValidation Loss: 0.926175\n",
      "Epoch: 25 \tTraining Loss: 3.962842 \tValidation Loss: 0.895734\n",
      "Epoch: 26 \tTraining Loss: 3.958468 \tValidation Loss: 0.930339\n",
      "Epoch: 27 \tTraining Loss: 3.974243 \tValidation Loss: 0.906603\n",
      "Epoch: 28 \tTraining Loss: 3.996183 \tValidation Loss: 0.945107\n",
      "Epoch: 29 \tTraining Loss: 3.965912 \tValidation Loss: 0.938482\n",
      "Epoch: 30 \tTraining Loss: 3.957682 \tValidation Loss: 0.931048\n",
      "Epoch: 31 \tTraining Loss: 3.953407 \tValidation Loss: 0.932641\n",
      "Epoch: 32 \tTraining Loss: 3.974702 \tValidation Loss: 0.943253\n",
      "Epoch: 33 \tTraining Loss: 3.967166 \tValidation Loss: 0.887295\n",
      "Epoch: 34 \tTraining Loss: 3.959860 \tValidation Loss: 0.960603\n",
      "Epoch: 35 \tTraining Loss: 3.976385 \tValidation Loss: 0.923743\n",
      "Epoch: 36 \tTraining Loss: 3.988294 \tValidation Loss: 0.900428\n",
      "Epoch: 37 \tTraining Loss: 3.962373 \tValidation Loss: 0.927141\n",
      "Epoch: 38 \tTraining Loss: 3.964890 \tValidation Loss: 0.892573\n",
      "Epoch: 39 \tTraining Loss: 3.969820 \tValidation Loss: 0.934706\n",
      "Epoch: 40 \tTraining Loss: 3.972828 \tValidation Loss: 0.943779\n",
      "Epoch: 41 \tTraining Loss: 3.954732 \tValidation Loss: 0.936452\n",
      "Epoch: 42 \tTraining Loss: 3.962450 \tValidation Loss: 0.866069\n",
      "Validation loss decreased (0.887287 --> 0.866069).  Saving model ...\n",
      "Epoch: 43 \tTraining Loss: 3.954233 \tValidation Loss: 0.930106\n",
      "Epoch: 44 \tTraining Loss: 3.962546 \tValidation Loss: 0.931825\n",
      "Epoch: 45 \tTraining Loss: 3.934226 \tValidation Loss: 0.908991\n",
      "Epoch: 46 \tTraining Loss: 3.957354 \tValidation Loss: 0.892863\n",
      "Epoch: 47 \tTraining Loss: 3.974643 \tValidation Loss: 0.922887\n",
      "Epoch: 48 \tTraining Loss: 3.940125 \tValidation Loss: 0.885957\n",
      "Epoch: 49 \tTraining Loss: 3.980119 \tValidation Loss: 0.951018\n",
      "Epoch: 50 \tTraining Loss: 3.974970 \tValidation Loss: 0.927043\n"
     ]
    }
   ],
   "source": [
    "# let 'er riiiip\n",
    "model_scratch = train(50, loaders, inception_net, optimizer, criterion, use_cuda, save_path='./model_cancer_detection.pt')"
   ]
  }
 ],
 "metadata": {
  "kernelspec": {
   "display_name": "Python 3",
   "language": "python",
   "name": "python3"
  },
  "language_info": {
   "codemirror_mode": {
    "name": "ipython",
    "version": 3
   },
   "file_extension": ".py",
   "mimetype": "text/x-python",
   "name": "python",
   "nbconvert_exporter": "python",
   "pygments_lexer": "ipython3",
   "version": "3.7.7"
  }
 },
 "nbformat": 4,
 "nbformat_minor": 4
}
